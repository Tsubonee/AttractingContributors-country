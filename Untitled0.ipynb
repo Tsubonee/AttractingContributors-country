{
  "nbformat": 4,
  "nbformat_minor": 0,
  "metadata": {
    "colab": {
      "provenance": [],
      "gpuType": "T4",
      "authorship_tag": "ABX9TyOav2AncKGXGycxNiAizfz6",
      "include_colab_link": true
    },
    "kernelspec": {
      "name": "python3",
      "display_name": "Python 3"
    },
    "language_info": {
      "name": "python"
    },
    "accelerator": "GPU"
  },
  "cells": [
    {
      "cell_type": "markdown",
      "metadata": {
        "id": "view-in-github",
        "colab_type": "text"
      },
      "source": [
        "<a href=\"https://colab.research.google.com/github/Tsubonee/AttractingContributors-country/blob/main/Untitled0.ipynb\" target=\"_parent\"><img src=\"https://colab.research.google.com/assets/colab-badge.svg\" alt=\"Open In Colab\"/></a>"
      ]
    },
    {
      "cell_type": "code",
      "execution_count": null,
      "metadata": {
        "colab": {
          "base_uri": "https://localhost:8080/"
        },
        "id": "6-R74XQqtgCy",
        "outputId": "f8104532-93f9-4623-f37f-aee92c93887e"
      },
      "outputs": [
        {
          "output_type": "stream",
          "name": "stdout",
          "text": [
            "Cloning into 'Data_Synchronization.ipynb'...\n",
            "fatal: repository 'https://github.com/CARE-Lab/SS2023_Physiology/blob/main/data_analysis/Data_Synchronization.ipynb/' not found\n"
          ]
        }
      ],
      "source": [
        "!git clone https://github.com/CARE-Lab/SS2023_Physiology/blob/main/data_analysis/Data_Synchronization.ipynb"
      ]
    },
    {
      "cell_type": "code",
      "source": [
        "import numpy as np\n",
        "import pandas as pd\n",
        "import os\n",
        "from matplotlib   import pylab as plt"
      ],
      "metadata": {
        "id": "8CGKNWCUuCrK"
      },
      "execution_count": null,
      "outputs": []
    },
    {
      "cell_type": "code",
      "source": [
        "# detection the change\n",
        "def trigger_detection(data, threshold, start=0, end=-1):\n",
        "    flag = False\n",
        "\n",
        "    intervals = []\n",
        "    if end < start:\n",
        "        end = data.shape[0]\n",
        "\n",
        "    for i in np.arange(start, end):\n",
        "        if (data[i] < threshold):\n",
        "            if flag == False:\n",
        "                flag = True\n",
        "                s = i\n",
        "            else:\n",
        "                if data[i+1] > threshold:\n",
        "                    e = i\n",
        "                    intervals.append((s, e))\n",
        "                    flag = False\n",
        "\n",
        "    return np.array(intervals)[:, 0]"
      ],
      "metadata": {
        "id": "RuhaLc_vuE0A"
      },
      "execution_count": null,
      "outputs": []
    },
    {
      "cell_type": "code",
      "source": [
        "# # paths were the raw data is\n",
        "# root_path = 'data/'\n",
        "# data_path = os.path.join(root_path, 'Experiment')\n",
        "# shimmer_path = os.path.join(data_path, 'shimmer')\n",
        "# arduino_path = os.path.join(data_path, 'groove-GSR')\n",
        "\n",
        "# # list all files (ignoring the hidden macos file)\n",
        "# shimmer_files = [x for x in os.listdir(shimmer_path) if x.endswith('.csv')]\n",
        "# gsr_files = [x for x in os.listdir(arduino_path) if x.endswith('.csv')]"
      ],
      "metadata": {
        "id": "73-0Kx8quKjc"
      },
      "execution_count": null,
      "outputs": []
    },
    {
      "cell_type": "code",
      "source": [
        "from google.colab import drive\n",
        "drive.mount('/content/drive')"
      ],
      "metadata": {
        "colab": {
          "base_uri": "https://localhost:8080/"
        },
        "id": "tjJ0Cn5e1CC3",
        "outputId": "ed1deff2-4c09-437e-8305-de374c778d11"
      },
      "execution_count": null,
      "outputs": [
        {
          "output_type": "stream",
          "name": "stdout",
          "text": [
            "Mounted at /content/drive\n"
          ]
        }
      ]
    },
    {
      "cell_type": "code",
      "source": [
        "# paths were the raw data is\n",
        "root_path = '/content/drive/MyDrive/Awe_Experiment/' # Googleドライブのマイドライブ直下のパス\n",
        "data_path = os.path.join(root_path, 'Pilot')"
      ],
      "metadata": {
        "id": "Y7A29eRGAcI-"
      },
      "execution_count": null,
      "outputs": []
    },
    {
      "cell_type": "code",
      "source": [
        "data_path"
      ],
      "metadata": {
        "colab": {
          "base_uri": "https://localhost:8080/",
          "height": 35
        },
        "id": "iTmpoTnkAdH8",
        "outputId": "6bd1c288-80f2-4be2-d877-c7b3cd0f0a6c"
      },
      "execution_count": null,
      "outputs": [
        {
          "output_type": "execute_result",
          "data": {
            "text/plain": [
              "'/content/drive/MyDrive/Awe_Experiment/Pilot'"
            ],
            "application/vnd.google.colaboratory.intrinsic+json": {
              "type": "string"
            }
          },
          "metadata": {},
          "execution_count": 17
        }
      ]
    },
    {
      "cell_type": "code",
      "source": [
        "shimmer_path = os.path.join(data_path, 'Shimmer')\n",
        "shimmer_path"
      ],
      "metadata": {
        "colab": {
          "base_uri": "https://localhost:8080/",
          "height": 35
        },
        "id": "Xvmn3cZiAw1j",
        "outputId": "76f98348-98f8-4677-bb50-1102da0d57db"
      },
      "execution_count": null,
      "outputs": [
        {
          "output_type": "execute_result",
          "data": {
            "text/plain": [
              "'/content/drive/MyDrive/Awe_Experiment/Pilot/Shimmer'"
            ],
            "application/vnd.google.colaboratory.intrinsic+json": {
              "type": "string"
            }
          },
          "metadata": {},
          "execution_count": 20
        }
      ]
    },
    {
      "cell_type": "code",
      "source": [
        "shimmer_files = [x for x in os.listdir(shimmer_path) if x.endswith('.csv')]"
      ],
      "metadata": {
        "id": "mnXkkNa-A_bG"
      },
      "execution_count": null,
      "outputs": []
    },
    {
      "cell_type": "code",
      "source": [
        "shimmer_files"
      ],
      "metadata": {
        "colab": {
          "base_uri": "https://localhost:8080/"
        },
        "id": "CyHhE4mn5xvI",
        "outputId": "28a01bf0-01db-45a1-9bf0-7aa5ec99145c"
      },
      "execution_count": null,
      "outputs": [
        {
          "output_type": "execute_result",
          "data": {
            "text/plain": [
              "['13pp_Hiromu_Session1_Shimmer_F16C_Calibrated_SD.csv',\n",
              " '13pp_Hiromu_Session1_Shimmer_895A_Calibrated_SD.csv']"
            ]
          },
          "metadata": {},
          "execution_count": 22
        }
      ]
    },
    {
      "cell_type": "code",
      "source": [
        "trigger_path = shimmer_files[1]"
      ],
      "metadata": {
        "id": "VVWvJuKqBrSr"
      },
      "execution_count": null,
      "outputs": []
    },
    {
      "cell_type": "code",
      "source": [
        "emg_path = shimmer_files[0]"
      ],
      "metadata": {
        "id": "crHmrmYPBRM_"
      },
      "execution_count": null,
      "outputs": []
    },
    {
      "cell_type": "code",
      "source": [
        "out_path = os.path.join(root_path, 'Segmented')\n",
        "emg_out_path = os.path.join(out_path, 'EMG')\n",
        "#eda_out_path = os.path.join(out_path, 'EDA')\n",
        "\n",
        "# check if the output folders exist and create them if necessary\n",
        "for folder in [out_path, emg_out_path]:\n",
        "    if not os.path.exists(folder):\n",
        "        os.mkdir(folder)"
      ],
      "metadata": {
        "id": "Msrsk5DCBpHn"
      },
      "execution_count": null,
      "outputs": []
    },
    {
      "cell_type": "code",
      "source": [
        "# trigger loading and detection\n",
        "df = pd.read_csv(os.path.join(shimmer_path, trigger_path), skiprows=[0,2])\n",
        "columns = df.columns\n",
        "\n",
        "timestamps = np.array(df[columns[0]])\n",
        "trigger_values = np.array(df[columns[1]])\n",
        "\n",
        "trigger_pos = trigger_detection(trigger_values, 500)\n",
        "trigger_timestamps = timestamps[trigger_pos]"
      ],
      "metadata": {
        "id": "F-kJSNc6B4cb"
      },
      "execution_count": null,
      "outputs": []
    },
    {
      "cell_type": "code",
      "source": [
        "len(trigger_pos)"
      ],
      "metadata": {
        "colab": {
          "base_uri": "https://localhost:8080/"
        },
        "id": "KEdeaQ7rB-CL",
        "outputId": "6fcbdae5-d677-483a-9953-a2620070c730"
      },
      "execution_count": null,
      "outputs": [
        {
          "output_type": "execute_result",
          "data": {
            "text/plain": [
              "17"
            ]
          },
          "metadata": {},
          "execution_count": 28
        }
      ]
    },
    {
      "cell_type": "code",
      "source": [
        "trigger_pos"
      ],
      "metadata": {
        "colab": {
          "base_uri": "https://localhost:8080/"
        },
        "id": "wxPfjGkaCCDn",
        "outputId": "785c3a27-5bb7-4130-824e-597c663794ff"
      },
      "execution_count": null,
      "outputs": [
        {
          "output_type": "execute_result",
          "data": {
            "text/plain": [
              "array([214255, 254500, 270421, 316489, 358619, 364691, 380603, 427747,\n",
              "       466029, 469220, 485113, 531175, 567943, 570181, 570702, 586068,\n",
              "       632143])"
            ]
          },
          "metadata": {},
          "execution_count": 29
        }
      ]
    },
    {
      "cell_type": "code",
      "source": [
        "trigger_timestamps"
      ],
      "metadata": {
        "colab": {
          "base_uri": "https://localhost:8080/"
        },
        "id": "BmcSs-o_CEsb",
        "outputId": "71d61a01-a766-4579-d488-2c7e0a8f6545"
      },
      "execution_count": null,
      "outputs": [
        {
          "output_type": "execute_result",
          "data": {
            "text/plain": [
              "array([1.69831390e+12, 1.69831398e+12, 1.69831401e+12, 1.69831410e+12,\n",
              "       1.69831418e+12, 1.69831420e+12, 1.69831423e+12, 1.69831432e+12,\n",
              "       1.69831439e+12, 1.69831440e+12, 1.69831443e+12, 1.69831452e+12,\n",
              "       1.69831459e+12, 1.69831460e+12, 1.69831460e+12, 1.69831463e+12,\n",
              "       1.69831472e+12])"
            ]
          },
          "metadata": {},
          "execution_count": 30
        }
      ]
    },
    {
      "cell_type": "code",
      "source": [
        "shimmer_path"
      ],
      "metadata": {
        "colab": {
          "base_uri": "https://localhost:8080/",
          "height": 35
        },
        "id": "vG0jwgAfETDs",
        "outputId": "27e08592-654d-4134-fa2a-5bb9381431f6"
      },
      "execution_count": null,
      "outputs": [
        {
          "output_type": "execute_result",
          "data": {
            "text/plain": [
              "'/content/drive/MyDrive/Awe_Experiment/Pilot/Shimmer'"
            ],
            "application/vnd.google.colaboratory.intrinsic+json": {
              "type": "string"
            }
          },
          "metadata": {},
          "execution_count": 34
        }
      ]
    },
    {
      "cell_type": "code",
      "source": [
        "emg_path"
      ],
      "metadata": {
        "colab": {
          "base_uri": "https://localhost:8080/",
          "height": 35
        },
        "id": "B7PUbeJMEWJt",
        "outputId": "3722c6e7-bf97-4938-900a-62390b2d003e"
      },
      "execution_count": null,
      "outputs": [
        {
          "output_type": "execute_result",
          "data": {
            "text/plain": [
              "'13pp_Hiromu_Session1_Shimmer_F16C_Calibrated_SD.csv'"
            ],
            "application/vnd.google.colaboratory.intrinsic+json": {
              "type": "string"
            }
          },
          "metadata": {},
          "execution_count": 35
        }
      ]
    },
    {
      "cell_type": "code",
      "source": [
        "file_name = os.path.join(shimmer_path, emg_path)\n",
        "file_name"
      ],
      "metadata": {
        "colab": {
          "base_uri": "https://localhost:8080/",
          "height": 35
        },
        "id": "ccNgn8gUEP4V",
        "outputId": "e2241a03-eaa7-47a8-9d20-8bb16d2b9f9e"
      },
      "execution_count": null,
      "outputs": [
        {
          "output_type": "execute_result",
          "data": {
            "text/plain": [
              "'/content/drive/MyDrive/Awe_Experiment/Pilot/Shimmer/13pp_Hiromu_Session1_Shimmer_F16C_Calibrated_SD.csv'"
            ],
            "application/vnd.google.colaboratory.intrinsic+json": {
              "type": "string"
            }
          },
          "metadata": {},
          "execution_count": 38
        }
      ]
    },
    {
      "cell_type": "code",
      "source": [
        "file_name = os.path.join(shimmer_path, emg_path)\n",
        "out_path = os.path.join(emg_out_path, emg_path)"
      ],
      "metadata": {
        "id": "DZbQy8OcFn0J"
      },
      "execution_count": null,
      "outputs": []
    },
    {
      "cell_type": "code",
      "source": [
        "df = pd.read_csv(file_name, skiprows=[0, 2])"
      ],
      "metadata": {
        "id": "nJdJzfA0GE5i"
      },
      "execution_count": null,
      "outputs": []
    },
    {
      "cell_type": "code",
      "source": [
        "print(f\"Lmax: {df.values[:,2].max()}, [{df.values[:,2].argmax()}], Rmax: {df.values[:,3].max()}, [{df.values[:,3].argmax()}]\")\n",
        "print(f\"Lmin: {df.values[:,2].min()}, [{df.values[:,2].argmin()}], Rmin: {df.values[:,3].min()}, [{df.values[:,3].argmin()}]\")"
      ],
      "metadata": {
        "colab": {
          "base_uri": "https://localhost:8080/"
        },
        "id": "QXSfn31AGJNv",
        "outputId": "3880943b-50d3-4f03-f89b-418bbd10194c"
      },
      "execution_count": null,
      "outputs": [
        {
          "output_type": "stream",
          "name": "stdout",
          "text": [
            "Lmax: 17.22826086956522, [689963], Rmax: 11.891304347826086, [1183]\n",
            "Lmin: 2.391304347826087, [1182], Rmin: -2.7282608695652173, [32782]\n"
          ]
        }
      ]
    },
    {
      "cell_type": "code",
      "source": [
        "plt.plot(df.values[:,2], label='CH1')\n",
        "plt.plot(df.values[:,3], label='CH2')\n",
        "plt.plot(trigger_pos, np.ones(len(trigger_pos)), 'ro', label='Trigger')\n",
        "plt.legend()\n",
        "plt.show()"
      ],
      "metadata": {
        "id": "LuCrtKaRGMZ1",
        "outputId": "0b52b2de-513a-463f-80ae-6336d62d1137",
        "colab": {
          "base_uri": "https://localhost:8080/",
          "height": 430
        }
      },
      "execution_count": null,
      "outputs": [
        {
          "output_type": "display_data",
          "data": {
            "text/plain": [
              "<Figure size 640x480 with 1 Axes>"
            ],
            "image/png": "[encoded data removed]"
          },
          "metadata": {}
        }
      ]
    }
  ]
}